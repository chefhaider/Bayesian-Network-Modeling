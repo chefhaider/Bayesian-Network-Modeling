{
 "cells": [
  {
   "cell_type": "markdown",
   "metadata": {},
   "source": [
    "# AI ASSIGNMENT 1\n",
    "# Bayesian Network Modeling \n",
    "\n",
    "## 18K-0199\n",
    "## 18K-1263"
   ]
  },
  {
   "cell_type": "code",
   "execution_count": 1,
   "metadata": {},
   "outputs": [],
   "source": [
    "import csv\n",
    "from copy import deepcopy\n",
    "import networkx as nx\n",
    "import matplotlib.pyplot as plt\n",
    "\n",
    "\n",
    "\n",
    "\n",
    "class Graph:\n",
    "    \n",
    "    def __init__(self):\n",
    "         self.adj = {}\n",
    "        \n",
    "    def addEdge(self,v1,v2,state):\n",
    "        \n",
    "        try:\n",
    "            self.adj[v1][v2].append(state)\n",
    "            \n",
    "        except:\n",
    "\n",
    "            try:\n",
    "                self.adj[v1][v2] = [state]\n",
    "\n",
    "            except:\n",
    "\n",
    "                self.adj[v1] = {v2:[state]}\n",
    "            \n",
    "            \n",
    "\n",
    "\n"
   ]
  },
  {
   "cell_type": "markdown",
   "metadata": {},
   "source": [
    "### Function to remove cycles"
   ]
  },
  {
   "cell_type": "code",
   "execution_count": 2,
   "metadata": {
    "scrolled": false
   },
   "outputs": [],
   "source": [
    "\n",
    "\n",
    "\n",
    "def traverse(adj,x,left,vis = []):\n",
    "    \n",
    "    if x not in vis:\n",
    "        vis.append(x)\n",
    "    \n",
    "    for y in adj[x].keys():\n",
    "        \n",
    "        \n",
    "        if y in left_vertices and adj[x][y]!=[]:\n",
    "            \n",
    "            left_vertices.remove(y)\n",
    "            traverse(adj,y,left,vis)\n",
    "            \n",
    "        elif y in vis:\n",
    "            \n",
    "            gene_network.adj[x][y] = []\n",
    "        \n",
    "        \n",
    "    vis.remove(x)\n",
    "            \n",
    "                \n",
    "def remove_cycle(adj):\n",
    "    left_vertices = list(adj.keys())\n",
    "    while(len(left_vertices)!=0):\n",
    "        x = left_vertices.pop(0)\n",
    "        traverse(gene_network.adj,x)\n",
    "    \n",
    "    \n",
    "    "
   ]
  },
  {
   "cell_type": "markdown",
   "metadata": {},
   "source": [
    "\n",
    "\n",
    "### Probabilistic formulation to show that how probabilities of cause and effect can be measure between interaction of two vertices for Q1"
   ]
  },
  {
   "cell_type": "code",
   "execution_count": 48,
   "metadata": {},
   "outputs": [],
   "source": [
    "def  gene_interaction(src,trgt,state,prob_src):\n",
    "    \n",
    "    \n",
    "    states = [0,0,0]\n",
    "    \n",
    "    \n",
    "    for val in set(gene_network.adj[src][trgt]):\n",
    "        if val == 'Activation':\n",
    "            states[0] = 1\n",
    "        elif val == 'Repression':\n",
    "            states[1] = 1\n",
    "        elif val == 'Unknown':\n",
    "            states[2] = 1\n",
    "            \n",
    "    if state == 'Activation':\n",
    "        key = 0\n",
    "\n",
    "    elif state == 'Repression':\n",
    "        key = 1\n",
    "            \n",
    "    prob = ( states[key] + ( states[2]/2 ) ) / sum(states)\n",
    "    \n",
    "    return prob*prob_src\n",
    "\n",
    "\n"
   ]
  },
  {
   "cell_type": "markdown",
   "metadata": {},
   "source": [
    "\n",
    "### Finds the path from source to target for  cascading effect in Q2"
   ]
  },
  {
   "cell_type": "code",
   "execution_count": 13,
   "metadata": {},
   "outputs": [],
   "source": [
    "\n",
    "\n",
    "def cascade(adj,x,target,path = []):\n",
    "\n",
    "    global found,traget_state,temp_path\n",
    "    \n",
    "    if found:\n",
    "        return\n",
    "    \n",
    "    path.append(x)\n",
    "    \n",
    "    \n",
    "    for y in adj[x].keys():\n",
    "        \n",
    "        if y in left_vertices and ( traget_state in adj[x][y] or 'Unknown' in adj[x][y] ):\n",
    "            if target == y:\n",
    "                found = True\n",
    "                temp_path = deepcopy(path)\n",
    "                return\n",
    "            \n",
    "            left_vertices.remove(y)\n",
    "            traverse(adj,y,target,path)\n",
    "            \n",
    "        \n",
    "        \n",
    "    path.remove(x)\n",
    "\n",
    "    \n",
    "\n"
   ]
  },
  {
   "cell_type": "markdown",
   "metadata": {},
   "source": [
    "Extracting the BetweenCLose centrality score"
   ]
  },
  {
   "cell_type": "code",
   "execution_count": 58,
   "metadata": {},
   "outputs": [],
   "source": [
    "centrality = dict()\n",
    "with open ('GRN_source_target_network_analyze.csv') as csvfile:\n",
    "    col = csv.reader(csvfile, delimiter=' ', quotechar='|')\n",
    "    \n",
    "    for row in col:\n",
    "        val = row[0].split(',')[1:3]\n",
    "        centrality[val[0]] = val[1]"
   ]
  },
  {
   "cell_type": "markdown",
   "metadata": {},
   "source": [
    "Creating the graph from data"
   ]
  },
  {
   "cell_type": "code",
   "execution_count": 14,
   "metadata": {},
   "outputs": [],
   "source": [
    "\n",
    "\n",
    "geneData = []\n",
    "with open ('GRN_source_Target_TFS.csv') as csvfile:\n",
    "    col = csv.reader(csvfile, delimiter=' ', quotechar='|')\n",
    "    \n",
    "    for row in col:\n",
    "        geneData.append(row[0].split(',')[1:4])\n",
    "        \n",
    "    geneData = geneData[1:]\n",
    "\n",
    "\n",
    "\n",
    "gene_network = Graph()\n",
    "\n",
    "for gene in geneData:\n",
    "    gene_network.addEdge(gene[0],gene[1],gene[2])\n",
    "    \n",
    "    \n"
   ]
  },
  {
   "cell_type": "markdown",
   "metadata": {},
   "source": [
    "## Query 1"
   ]
  },
  {
   "cell_type": "code",
   "execution_count": 64,
   "metadata": {},
   "outputs": [
    {
     "name": "stdout",
     "output_type": "stream",
     "text": [
      "0.1305\n"
     ]
    }
   ],
   "source": [
    "# souurce probablity of AR pre-calculated using bayseian theorem\n",
    "source_probabilty = 0.268\n",
    "\n",
    "gene_interaction('AR','ERBB2','Activation',source_probabilty)"
   ]
  },
  {
   "cell_type": "markdown",
   "metadata": {},
   "source": [
    "## Query 2"
   ]
  },
  {
   "cell_type": "code",
   "execution_count": 43,
   "metadata": {},
   "outputs": [
    {
     "data": {
      "image/png": "[encoded data removed]",
      "text/plain": [
       "<Figure size 864x864 with 1 Axes>"
      ]
     },
     "metadata": {},
     "output_type": "display_data"
    }
   ],
   "source": [
    "\n",
    "\n",
    "gene1 = 'CTBP1'\n",
    "gene2 = 'ARNT'\n",
    "traget_state = 'Repression'\n",
    "target = 'ATM'\n",
    "\n",
    "\n",
    "temp_path = []\n",
    "\n",
    "\n",
    "\n",
    "# getting sub graph from src - target path CTBP1\n",
    "left_vertices = list(gene_network.adj.keys())\n",
    "found = False\n",
    "cascade(gene_network.adj,gene1,target,[])\n",
    "path1 = temp_path\n",
    "    \n",
    "    \n",
    "# getting sub graph from src - target path ARNT   \n",
    "left_vertices = list(gene_network.adj.keys())\n",
    "found = False\n",
    "cascade(gene_network.adj,gene2,target,[])\n",
    "path2 = temp_path    \n",
    "\n",
    "\n",
    "\n",
    "# find point of intersection between both graphs\n",
    "inter = ''\n",
    "for val in path1:\n",
    "    if val in path2:\n",
    "        inter = val\n",
    "        break\n",
    "        \n",
    "\n",
    "\n",
    "        \n",
    "\n",
    "plt.figure(figsize=(12,12))\n",
    "\n",
    "G = nx.Graph()\n",
    "\n",
    "\n",
    "edges = []\n",
    "\n",
    "#creating a union from both graph\n",
    "    \n",
    "\n",
    "for i in range(len(path1)):\n",
    "    if path1[i] == inter:\n",
    "        break\n",
    "    else:\n",
    "        edges+=[(path1[i],path1[i+1])]\n",
    "\n",
    "\n",
    "for i in range(len(path2)-1):\n",
    "    edges+=[(path2[i],path2[i+1])]\n",
    "    \n",
    "edges+=[(path1[-1],target)]\n",
    "    \n",
    "G.add_edges_from(edges)\n",
    "nx.draw_networkx(G)\n",
    "plt.show()"
   ]
  },
  {
   "cell_type": "code",
   "execution_count": 65,
   "metadata": {},
   "outputs": [
    {
     "name": "stdout",
     "output_type": "stream",
     "text": [
      "0.116\n"
     ]
    }
   ],
   "source": [
    "#prbablity of ARNT being on\n",
    "prob1 = 0.5\n",
    "#probablity of CTBP1being on\n",
    "prob2 = 0.285\n",
    "#souurce probablities  pre-calculated using bayseian theorem\n",
    "\n",
    "key = 0\n",
    "\n",
    "\n",
    "for i in range(len(path1)):\n",
    "    \n",
    "    if path1[i] == inter:\n",
    "        key = i\n",
    "        break\n",
    "    else:\n",
    "        prob1  = gene_interaction(path1[i],path1[i+1],traget_state,prob1)\n",
    "        \n",
    "\n",
    "\n",
    "for i in range(len(path2)):\n",
    "    if path1[i] == inter:\n",
    "        break\n",
    "    else:\n",
    "        prob2  = gene_interaction(path2[i],path2[i+1],traget_state,prob2)\n",
    "\n",
    "#computing probabilty upto the target\n",
    "prob = prob1 + prob2\n",
    "\n",
    "\n",
    "for i in range(len(path1[key:])-1):\n",
    "    prob  = gene_interaction(path1[key+i],path1[key+i+1],traget_state,prob)\n",
    "    \n",
    "\n",
    "print(prob)"
   ]
  }
 ],
 "metadata": {
  "kernelspec": {
   "display_name": "Python 3",
   "language": "python",
   "name": "python3"
  },
  "language_info": {
   "codemirror_mode": {
    "name": "ipython",
    "version": 3
   },
   "file_extension": ".py",
   "mimetype": "text/x-python",
   "name": "python",
   "nbconvert_exporter": "python",
   "pygments_lexer": "ipython3",
   "version": "3.7.6"
  }
 },
 "nbformat": 4,
 "nbformat_minor": 4
}
